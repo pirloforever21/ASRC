{
 "cells": [
  {
   "cell_type": "code",
   "execution_count": 1,
   "metadata": {},
   "outputs": [],
   "source": [
    "import numpy as np\n",
    "import pandas as pd\n",
    "from matplotlib import pyplot as plt\n",
    "import math\n",
    "import time\n",
    "import pickle"
   ]
  },
  {
   "cell_type": "code",
   "execution_count": 2,
   "metadata": {},
   "outputs": [
    {
     "data": {
      "text/plain": [
       "[<matplotlib.lines.Line2D at 0x7f67d82ab5c0>]"
      ]
     },
     "execution_count": 2,
     "metadata": {},
     "output_type": "execute_result"
    },
    {
     "data": {
      "image/png": "[encoded data removed]",
      "text/plain": [
       "<Figure size 432x288 with 1 Axes>"
      ]
     },
     "metadata": {},
     "output_type": "display_data"
    }
   ],
   "source": [
    "df = pd.read_csv('processed data.csv')\n",
    "demand_total = df['Electricity:Facility [kW](Hourly)'].values*1000\n",
    "solar_total = df['Normalized Solar Energy [kWh]'].values*1000\n",
    "T = len(demand_total)\n",
    "solar_extend = np.append(solar_total,np.zeros(T))\n",
    "demand_extend = np.append(demand_total,np.zeros(T))\n",
    "t = np.arange(0,T)\n",
    "plt.plot(t,solar_total,label='solar')\n",
    "plt.plot(t,demand_total,label='demand')"
   ]
  },
  {
   "cell_type": "code",
   "execution_count": 17,
   "metadata": {},
   "outputs": [
    {
     "data": {
      "text/plain": [
       "array([1., 4., 7., 0., 0., 0.])"
      ]
     },
     "execution_count": 17,
     "metadata": {},
     "output_type": "execute_result"
    }
   ],
   "source": [
    "a = np.array([1.,2.,3.,4.,5.,6.,7.,8.,9.,0.,0.,0.,0.,0.,0.,0.,0.,0.])\n",
    "b = np.append(a[-8:],a[:1])\n",
    "c = a[::3]\n",
    "c"
   ]
  },
  {
   "cell_type": "code",
   "execution_count": 3,
   "metadata": {},
   "outputs": [],
   "source": [
    "xi = .5\n",
    "beta = 1 #????????\n",
    "a = 2.0\n",
    "b = 10.0\n",
    "c = 27.0"
   ]
  },
  {
   "cell_type": "code",
   "execution_count": 4,
   "metadata": {},
   "outputs": [],
   "source": [
    "def gradient_descent(variable,gradient,tol=1e-9,projection=lambda x: x,max_iter=1000,step_size=0.05,show=False):\n",
    "    \"\"\"\n",
    "    Projected gradient descent.\n",
    "    \n",
    "    Inputs:\n",
    "        variable: starting point\n",
    "        grad: function mapping points to gradients\n",
    "        function: compute function value at now variable\n",
    "        tol: stopping threhold\n",
    "        max_iter: maximum iteration\n",
    "        step_size: learning rate\n",
    "        projection(optional): function mapping points to points\n",
    "        \n",
    "    Returns:\n",
    "        List of all points computed by projected gradient descent.\n",
    "    \"\"\"\n",
    "    iteration = 0\n",
    "    diff_norm_variable = 9999.0\n",
    "    while (diff_norm_variable > tol) & (iteration < max_iter):\n",
    "        updated_variable = projection(variable + step_size*(-gradient(variable)))\n",
    "        diff_norm_variable = np.linalg.norm(updated_variable - variable)\n",
    "        variable = updated_variable\n",
    "        iteration += 1\n",
    "        if (iteration%100 == 0) & (show) :\n",
    "            print('iteration: %d, difference between updates in norm: %.9f' % (iteration,diff_norm_variable))\n",
    "    \n",
    "    return variable"
   ]
  },
  {
   "cell_type": "code",
   "execution_count": 5,
   "metadata": {},
   "outputs": [],
   "source": [
    "# Offline algorithm\n",
    "def OFF(x0=0.0,show = False):\n",
    "    print('offline algorithm started...')\n",
    "    x_OFF = np.full(T,x0)\n",
    "    gradient = lambda variable: quadratic_smoothed_gradient(variable,solar_total,demand_total)\n",
    "    x_OFF = gradient_descent(variable=x_OFF,gradient=gradient,projection = projection,show=show)\n",
    "    print('offline algorithm finished!')\n",
    "    return x_OFF"
   ]
  },
  {
   "cell_type": "code",
   "execution_count": 6,
   "metadata": {},
   "outputs": [
    {
     "name": "stdout",
     "output_type": "stream",
     "text": [
      "offline algorithm started...\n"
     ]
    },
    {
     "ename": "NameError",
     "evalue": "name 'projection' is not defined",
     "output_type": "error",
     "traceback": [
      "\u001b[0;31m---------------------------------------------------------------------------\u001b[0m",
      "\u001b[0;31mNameError\u001b[0m                                 Traceback (most recent call last)",
      "\u001b[0;32m<ipython-input-6-b22bca834127>\u001b[0m in \u001b[0;36m<module>\u001b[0;34m()\u001b[0m\n\u001b[0;32m----> 1\u001b[0;31m \u001b[0mx_OFF\u001b[0m \u001b[0;34m=\u001b[0m \u001b[0mOFF\u001b[0m\u001b[0;34m(\u001b[0m\u001b[0mshow\u001b[0m\u001b[0;34m=\u001b[0m\u001b[0;32mTrue\u001b[0m\u001b[0;34m)\u001b[0m\u001b[0;34m\u001b[0m\u001b[0m\n\u001b[0m",
      "\u001b[0;32m<ipython-input-5-907996ba0e34>\u001b[0m in \u001b[0;36mOFF\u001b[0;34m(x0, show)\u001b[0m\n\u001b[1;32m      4\u001b[0m     \u001b[0mx_OFF\u001b[0m \u001b[0;34m=\u001b[0m \u001b[0mnp\u001b[0m\u001b[0;34m.\u001b[0m\u001b[0mfull\u001b[0m\u001b[0;34m(\u001b[0m\u001b[0mT\u001b[0m\u001b[0;34m,\u001b[0m\u001b[0mx0\u001b[0m\u001b[0;34m)\u001b[0m\u001b[0;34m\u001b[0m\u001b[0m\n\u001b[1;32m      5\u001b[0m     \u001b[0mgradient\u001b[0m \u001b[0;34m=\u001b[0m \u001b[0;32mlambda\u001b[0m \u001b[0mvariable\u001b[0m\u001b[0;34m:\u001b[0m \u001b[0mquadratic_smoothed_gradient\u001b[0m\u001b[0;34m(\u001b[0m\u001b[0mvariable\u001b[0m\u001b[0;34m,\u001b[0m\u001b[0msolar_total\u001b[0m\u001b[0;34m,\u001b[0m\u001b[0mdemand_total\u001b[0m\u001b[0;34m)\u001b[0m\u001b[0;34m\u001b[0m\u001b[0m\n\u001b[0;32m----> 6\u001b[0;31m     \u001b[0mx_OFF\u001b[0m \u001b[0;34m=\u001b[0m \u001b[0mgradient_descent\u001b[0m\u001b[0;34m(\u001b[0m\u001b[0mvariable\u001b[0m\u001b[0;34m=\u001b[0m\u001b[0mx_OFF\u001b[0m\u001b[0;34m,\u001b[0m\u001b[0mgradient\u001b[0m\u001b[0;34m=\u001b[0m\u001b[0mgradient\u001b[0m\u001b[0;34m,\u001b[0m\u001b[0mprojection\u001b[0m \u001b[0;34m=\u001b[0m \u001b[0mprojection\u001b[0m\u001b[0;34m,\u001b[0m\u001b[0mshow\u001b[0m\u001b[0;34m=\u001b[0m\u001b[0mshow\u001b[0m\u001b[0;34m)\u001b[0m\u001b[0;34m\u001b[0m\u001b[0m\n\u001b[0m\u001b[1;32m      7\u001b[0m     \u001b[0mprint\u001b[0m\u001b[0;34m(\u001b[0m\u001b[0;34m'offline algorithm finished!'\u001b[0m\u001b[0;34m)\u001b[0m\u001b[0;34m\u001b[0m\u001b[0m\n\u001b[1;32m      8\u001b[0m     \u001b[0;32mreturn\u001b[0m \u001b[0mx_OFF\u001b[0m\u001b[0;34m\u001b[0m\u001b[0m\n",
      "\u001b[0;31mNameError\u001b[0m: name 'projection' is not defined"
     ]
    }
   ],
   "source": [
    "x_OFF = OFF(show=True)"
   ]
  },
  {
   "cell_type": "code",
   "execution_count": 7,
   "metadata": {},
   "outputs": [],
   "source": [
    "# Receding horizon control algorithm\n",
    "def RHC(W,x0 = 0.0,show = False):\n",
    "    print('Receding horizon control started...')\n",
    "    x_RHC = np.full(T+1,x0)\n",
    "    for i in range(1,T+1):\n",
    "        x_temp = np.zeros(W) # Warning!\n",
    "        gradient = lambda variable: quadratic_smoothed_gradient(variable,solar_extend[i-1:i+W-1],demand_extend[i-1:i+W-1],x0=x_RHC[i-1])\n",
    "        x_temp = gradient_descent(variable=x_temp,gradient=gradient,projection = projection)\n",
    "        x_RHC[i] = x_temp[0]\n",
    "        if (i%1000 == 0) & (show):\n",
    "            print('time step: %d, total steps: %d' % (i,T))\n",
    "    x_RHC = np.delete(x_RHC,0)\n",
    "    print('RHC finished!')\n",
    "    return x_RHC"
   ]
  },
  {
   "cell_type": "code",
   "execution_count": 8,
   "metadata": {},
   "outputs": [],
   "source": [
    "def quadratic_smoothed_gradient(variable,solar,demand,x0=0.0):\n",
    "    variable_backward = np.append(x0,variable[:-1])\n",
    "    variable_forward = np.append(variable[1:],0.0)\n",
    "    gradient = 2*a*variable+b+2*xi*(variable+solar-demand)+beta*(2*variable-variable_backward-variable_forward)\n",
    "    \n",
    "    return gradient"
   ]
  },
  {
   "cell_type": "code",
   "execution_count": 9,
   "metadata": {},
   "outputs": [],
   "source": [
    "def projection(variable):\n",
    "    '''\n",
    "    Define your projection\n",
    "    '''\n",
    "    return np.maximum(variable,0.0)"
   ]
  },
  {
   "cell_type": "code",
   "execution_count": 10,
   "metadata": {},
   "outputs": [],
   "source": [
    "def RHGD(W, x0=0.0,gamma=1/(2*a),eta=1/(2*a+4*beta),show=False):\n",
    "    print('Receding horizon gradient descent started...')\n",
    "    '''\n",
    "    Algorithm by Li et al. arXiv:1801.07780\n",
    "    '''\n",
    "    x_RHGD = np.full(T+1,x0)\n",
    "    for s in range(2-W,T+1): # Careful here!\n",
    "        # Initialize x_RHGD[s+W]\n",
    "        if s+W <= T:\n",
    "            online_gradient = lambda variable: online_quadratic_smoothed_gradient(0.0,variable,0.0,solar_total[s+W-2],demand_total[s+W-2])\n",
    "            x_RHGD[s+W] = projection(x_RHGD[s+W-1]-gamma*online_gradient(x_RHGD[s+W-1]))\n",
    "        # Update x_RHGD[s],...,x_RHGD[s+W-1] backwards\n",
    "        for t in range(min(s+W-1,T),max(s,1)-1,-1): # Careful here!\n",
    "            if t == T:\n",
    "                x_RHGD[t] = projection(x_RHGD[t] - eta*online_quadratic_smoothed_gradient(x_RHGD[t-1],x_RHGD[t],0.0,solar_total[t-1],demand_total[t-1],beta = beta))\n",
    "            else:\n",
    "                x_RHGD[t] = projection(x_RHGD[t] - eta*online_quadratic_smoothed_gradient(x_RHGD[t-1],x_RHGD[t],x_RHGD[t+1],solar_total[t-1],demand_total[t-1],beta = beta))\n",
    "        if (s%1000 == 0) & (show):\n",
    "            print('time step: %d, total steps: %d' % (s,T))\n",
    "    x_RHGD = np.delete(x_RHGD,0)\n",
    "    print('RHGD finished!')\n",
    "    return x_RHGD"
   ]
  },
  {
   "cell_type": "code",
   "execution_count": 11,
   "metadata": {},
   "outputs": [],
   "source": [
    "def online_quadratic_smoothed_gradient(variable_backward,variable,variable_forward,solar,demand,beta = 0.0):\n",
    "    gradient = 2*a*variable+b+2*xi*(variable+solar-demand)+beta*(2*variable-variable_backward-variable_forward)\n",
    "    return gradient"
   ]
  },
  {
   "cell_type": "code",
   "execution_count": 12,
   "metadata": {},
   "outputs": [],
   "source": [
    "def quadratic_smoothed_function(variable,solar,demand,x0=0.0):\n",
    "    variable_backward = np.append(x0,variable[:-1])\n",
    "    function = np.sum(a*variable**2+b*variable+c+xi*(variable+solar-demand)**2+0.5*beta*(variable-variable_backward)**2)\n",
    "    \n",
    "    return function"
   ]
  },
  {
   "cell_type": "code",
   "execution_count": 13,
   "metadata": {},
   "outputs": [],
   "source": [
    "def plot_window_vs_regret(objective,offline_algorithm,*online_algorithms,x0 = 0.0,show = False):\n",
    "    offline_variable = offline_algorithm()\n",
    "    offline_function = objective(offline_variable)\n",
    "    window = 6\n",
    "    log_regrets = []\n",
    "    for online_algorithm in online_algorithms:\n",
    "        log_regret = []\n",
    "        start = time.time()\n",
    "        for w in range(1,window):\n",
    "            if show:\n",
    "                print('Look forward window = %d, total window = %d' % (w,window))\n",
    "            online_variable = online_algorithm(w)\n",
    "            online_function = objective(online_variable)\n",
    "            log_regret.append(online_function / offline_function)\n",
    "        elapsed = time.time()- start\n",
    "        print('------Elapsed time is %f------' % (elapsed))\n",
    "        t = np.arange(1,window)\n",
    "        plt.plot(t,log_regret,label=online_algorithm.__name__)\n",
    "        plt.legend()\n",
    "        log_regrets.append(log_regret)\n",
    "    plt.show()    \n",
    "    return np.array(log_regrets)"
   ]
  },
  {
   "cell_type": "code",
   "execution_count": 15,
   "metadata": {},
   "outputs": [
    {
     "name": "stdout",
     "output_type": "stream",
     "text": [
      "offline algorithm started...\n",
      "offline algorithm finished!\n",
      "Look forward window = 1, total window = 6\n",
      "Receding horizon gradient descent started...\n",
      "RHGD finished!\n",
      "Look forward window = 2, total window = 6\n",
      "Receding horizon gradient descent started...\n",
      "RHGD finished!\n",
      "Look forward window = 3, total window = 6\n",
      "Receding horizon gradient descent started...\n",
      "RHGD finished!\n",
      "Look forward window = 4, total window = 6\n",
      "Receding horizon gradient descent started...\n",
      "RHGD finished!\n",
      "Look forward window = 5, total window = 6\n",
      "Receding horizon gradient descent started...\n",
      "RHGD finished!\n",
      "------Elapsed time is 0.800561------\n",
      "Look forward window = 1, total window = 6\n",
      "Receding horizon control started...\n",
      "RHC finished!\n",
      "Look forward window = 2, total window = 6\n",
      "Receding horizon control started...\n",
      "RHC finished!\n",
      "Look forward window = 3, total window = 6\n",
      "Receding horizon control started...\n",
      "RHC finished!\n",
      "Look forward window = 4, total window = 6\n",
      "Receding horizon control started...\n",
      "RHC finished!\n",
      "Look forward window = 5, total window = 6\n",
      "Receding horizon control started...\n",
      "RHC finished!\n",
      "------Elapsed time is 83.805676------\n"
     ]
    },
    {
     "data": {
      "image/png": "[encoded data removed]",
      "text/plain": [
       "<Figure size 432x288 with 1 Axes>"
      ]
     },
     "metadata": {},
     "output_type": "display_data"
    }
   ],
   "source": [
    "function = lambda variable: quadratic_smoothed_function(variable,solar_total,demand_total)\n",
    "log_regrets = plot_window_vs_regret(function,OFF,RHGD,RHC,show=True)"
   ]
  },
  {
   "cell_type": "code",
   "execution_count": null,
   "metadata": {},
   "outputs": [],
   "source": []
  }
 ],
 "metadata": {
  "kernelspec": {
   "display_name": "Python 3",
   "language": "python",
   "name": "python3"
  },
  "language_info": {
   "codemirror_mode": {
    "name": "ipython",
    "version": 3
   },
   "file_extension": ".py",
   "mimetype": "text/x-python",
   "name": "python",
   "nbconvert_exporter": "python",
   "pygments_lexer": "ipython3",
   "version": "3.5.2"
  }
 },
 "nbformat": 4,
 "nbformat_minor": 2
}
