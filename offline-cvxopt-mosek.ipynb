{
 "cells": [
  {
   "cell_type": "code",
   "execution_count": 2,
   "metadata": {},
   "outputs": [],
   "source": [
    "import numpy as np\n",
    "import pandas as pd\n",
    "import time\n",
    "from cvxopt import matrix, sparse, solvers\n",
    "import pickle\n",
    "from matplotlib import pyplot as plt"
   ]
  },
  {
   "cell_type": "code",
   "execution_count": 3,
   "metadata": {},
   "outputs": [],
   "source": [
    "df = pd.read_csv('processed data.csv')\n",
    "demand = df['Electricity:Facility [kW](Hourly)'].values\n",
    "solar = df['Normalized Solar Energy [kWh]'].values\n",
    "T = len(demand)"
   ]
  },
  {
   "cell_type": "code",
   "execution_count": 4,
   "metadata": {},
   "outputs": [],
   "source": [
    "# Parameters\n",
    "C = 5.\n",
    "xi = .18\n",
    "sigma = .5\n",
    "pi = .075"
   ]
  },
  {
   "cell_type": "code",
   "execution_count": 5,
   "metadata": {},
   "outputs": [],
   "source": [
    "def inequality_matrix(W=0):\n",
    "    '''\n",
    "    This function is meant to form a linear programming (sub)problem\n",
    "    A: The inequality constraint matrix\n",
    "    b: The inequality constraint bound\n",
    "    c: The cost function\n",
    "    '''\n",
    "    if W <= 0:\n",
    "        print('Prediction window too short!')\n",
    "        A = np.array([])\n",
    "        return A\n",
    "    \n",
    "    elif W >= T:\n",
    "        W = T\n",
    "        print('Prediction window longer than time length--consider it as offline!')\n",
    "        \n",
    "    else:\n",
    "        pass\n",
    "    \n",
    "    # Define the inequality matrix\n",
    "    A1 = np.zeros((1*W,3*W))\n",
    "    A2 = np.zeros((1*W,3*W))\n",
    "    A3 = np.zeros((1*W,3*W))\n",
    "    for i in range(W):\n",
    "        A1[i,i*3] = -1.\n",
    "        A1[i,i*3+1] = 1.\n",
    "        A1[i,i*3+2] = -1.\n",
    "        if i >= 1:\n",
    "            A2[i,:] = A2[i-1,:]\n",
    "            A3[i,:] = A3[i-1,:]\n",
    "        A2[i,i*3+1] = 1.\n",
    "        A3[i,i*3+1] = -1.\n",
    "        A2[i,i*3+2] = -1.\n",
    "        A3[i,i*3+2] = 1.\n",
    "    A4 = -np.eye(3*W)\n",
    "    A = np.concatenate((A1, A2), axis=0)\n",
    "    A = np.concatenate((A, A3), axis=0)\n",
    "    A = np.concatenate((A, A4), axis=0)    \n",
    "    return A"
   ]
  },
  {
   "cell_type": "code",
   "execution_count": 6,
   "metadata": {},
   "outputs": [],
   "source": [
    "def inequality_bound(W=0,t=0,s0=0.):\n",
    "    '''\n",
    "    inequality bound is an online variable\n",
    "    it changes according to time t and starting point s0\n",
    "    '''\n",
    "    if W <= 0:\n",
    "        print('Prediction window too short!')\n",
    "        b = np.array([])\n",
    "        return b\n",
    "    \n",
    "    elif W >= T:\n",
    "        print('Prediction window longer than time length--consider it as offline!')\n",
    "        W = T\n",
    "        # Define the inequality bound\n",
    "        b1 = solar - demand\n",
    "        \n",
    "    else:\n",
    "        if t-1>=0:\n",
    "            b1 = solar_extend[t-1:t+W-1] - demand_extend[t-1:t+W-1]\n",
    "        else:\n",
    "            b1 = np.append(solar_extend[t-1:],solar_extend[:t+W-1]) - np.append(demand_extend[t-1:],demand_extend[:t+W-1])\n",
    "    \n",
    "    b2 = np.ones(W)*(C-s0)\n",
    "    b3 = np.ones(W)*(s0)\n",
    "    b4 = np.zeros(3*W)\n",
    "    b = np.append(b1,b2)\n",
    "    b = np.append(b,b3)\n",
    "    b = np.append(b,b4)    \n",
    "    return b"
   ]
  },
  {
   "cell_type": "code",
   "execution_count": 7,
   "metadata": {},
   "outputs": [],
   "source": [
    "def cost(W=0):\n",
    "    \n",
    "    if W <= 0:\n",
    "        print('Prediction window too short!')\n",
    "        c = np.array([])\n",
    "        return c\n",
    "    elif W>=T:\n",
    "        print('Prediction window longer than time length--consider it as offline!')\n",
    "        W = T\n",
    "    else:\n",
    "        pass\n",
    "    \n",
    "    # Define the cost function\n",
    "    c0 = np.array([xi+sigma,pi-sigma,pi+sigma])\n",
    "    c = np.tile(c0,W)\n",
    "        \n",
    "    return c"
   ]
  },
  {
   "cell_type": "code",
   "execution_count": 8,
   "metadata": {},
   "outputs": [
    {
     "name": "stdout",
     "output_type": "stream",
     "text": [
      "Prediction window longer than time length--consider it as offline!\n",
      "Prediction window longer than time length--consider it as offline!\n",
      "Prediction window longer than time length--consider it as offline!\n"
     ]
    }
   ],
   "source": [
    "# Solve offline problem\n",
    "s0 = 0.\n",
    "AOFF = inequality_matrix(W=T)\n",
    "bOFF = inequality_bound(W=T,s0=s0)\n",
    "cOFF = cost(W=T)"
   ]
  },
  {
   "cell_type": "code",
   "execution_count": 9,
   "metadata": {},
   "outputs": [],
   "source": [
    "A = matrix(AOFF)\n",
    "b = matrix(bOFF)\n",
    "c = matrix(cOFF)"
   ]
  },
  {
   "cell_type": "code",
   "execution_count": 10,
   "metadata": {},
   "outputs": [],
   "source": [
    "AA = sparse(A)"
   ]
  },
  {
   "cell_type": "code",
   "execution_count": 12,
   "metadata": {},
   "outputs": [
    {
     "name": "stdout",
     "output_type": "stream",
     "text": [
      "Problem\n",
      "  Name                   :                 \n",
      "  Objective sense        : min             \n",
      "  Type                   : LO (linear optimization problem)\n",
      "  Constraints            : 52560           \n",
      "  Cones                  : 0               \n",
      "  Scalar variables       : 26280           \n",
      "  Matrix variables       : 0               \n",
      "  Integer variables      : 0               \n",
      "\n",
      "Optimizer started.\n",
      "Presolve started.\n",
      "Linear dependency checker started.\n",
      "Linear dependency checker terminated.\n",
      "Eliminator started.\n",
      "Freed constraints in eliminator : 0\n",
      "Eliminator terminated.\n",
      "Eliminator - tries                  : 1                 time                   : 0.00            \n",
      "Lin. dep.  - tries                  : 1                 time                   : 0.52            \n",
      "Lin. dep.  - number                 : 0               \n",
      "Presolve terminated. Time: 34.22   \n",
      "Problem\n",
      "  Name                   :                 \n",
      "  Objective sense        : min             \n",
      "  Type                   : LO (linear optimization problem)\n",
      "  Constraints            : 52560           \n",
      "  Cones                  : 0               \n",
      "  Scalar variables       : 26280           \n",
      "  Matrix variables       : 0               \n",
      "  Integer variables      : 0               \n",
      "\n",
      "Optimizer  - threads                : 8               \n",
      "Optimizer  - solved problem         : the primal      \n",
      "Optimizer  - Constraints            : 17519\n",
      "Optimizer  - Cones                  : 0\n",
      "Optimizer  - Scalar variables       : 43798             conic                  : 0               \n",
      "Optimizer  - Semi-definite variables: 0                 scalarized             : 0               \n",
      "Factor     - setup time             : 43.05             dense det. time        : 0.00            \n",
      "Factor     - ML order time          : 4.17              GP order time          : 0.00            \n",
      "Factor     - nonzeros before factor : 7.67e+07          after factor           : 7.67e+07        \n",
      "Factor     - dense dim.             : 0                 flops                  : 6.73e+11        \n",
      "ITE PFEAS    DFEAS    GFEAS    PRSTATUS   POBJ              DOBJ              MU       TIME  \n",
      "0   3.0e+00  1.4e+00  7.3e+03  1.00e+00   7.270714976e+03   5.949757702e-01   1.0e+00  107.64\n",
      "1   1.3e+01  1.0e+01  5.5e+04  0.00e+00   4.997151494e+04   1.207426865e+04   1.0e+02  116.44\n",
      "2   1.2e+00  1.0e+00  5.4e+03  4.96e+00   1.088756134e+04   9.832638660e+03   9.8e+00  125.47\n",
      "3   5.8e-01  4.8e-01  2.5e+03  2.12e+00   5.251279358e+03   4.890410110e+03   4.6e+00  133.94\n",
      "4   3.1e-02  2.6e-02  8.9e+01  1.42e+00   3.013050768e+03   3.002712418e+03   2.5e-01  144.94\n",
      "5   1.8e-03  1.6e-03  5.4e+00  1.01e+00   2.986367856e+03   2.985749866e+03   1.5e-02  155.98\n",
      "6   1.6e-04  1.4e-04  4.7e-01  1.00e+00   2.982330918e+03   2.982276567e+03   1.3e-03  167.06\n",
      "7   5.9e-06  5.1e-06  1.7e-02  1.00e+00   2.982013842e+03   2.982011859e+03   4.7e-05  175.90\n",
      "8   1.1e-08  2.5e-09  8.6e-06  1.00e+00   2.982002373e+03   2.982002372e+03   2.4e-08  184.71\n",
      "Basis identification started.\n",
      "Basis identification terminated. Time: 41.11\n",
      "Optimizer terminated. Time: 238.78  \n",
      "\n",
      "\n",
      "Interior-point solution summary\n",
      "  Problem status  : PRIMAL_AND_DUAL_FEASIBLE\n",
      "  Solution status : OPTIMAL\n",
      "  Primal.  obj: 2.9820023729e+03    nrm: 5e+00    Viol.  con: 1e-09    var: 0e+00  \n",
      "  Dual.    obj: 2.9820023719e+03    nrm: 7e-01    Viol.  con: 3e-10    var: 3e-10  \n",
      "\n",
      "Basic solution summary\n",
      "  Problem status  : PRIMAL_AND_DUAL_FEASIBLE\n",
      "  Solution status : OPTIMAL\n",
      "  Primal.  obj: 2.9820023672e+03    nrm: 5e+00    Viol.  con: 2e-14    var: 0e+00  \n",
      "  Dual.    obj: 2.9820023672e+03    nrm: 7e-01    Viol.  con: 1e-13    var: 1e-13  \n",
      "Time elasped: 277.866349\n"
     ]
    }
   ],
   "source": [
    "start = time.time()\n",
    "sol=solvers.lp(c,AA,b,solver='mosek')\n",
    "print('Time elasped: %f' % (time.time()-start))"
   ]
  },
  {
   "cell_type": "code",
   "execution_count": 13,
   "metadata": {},
   "outputs": [
    {
     "data": {
      "text/plain": [
       "2982.0023672236193"
      ]
     },
     "execution_count": 13,
     "metadata": {},
     "output_type": "execute_result"
    }
   ],
   "source": [
    "sol['primal objective']"
   ]
  },
  {
   "cell_type": "code",
   "execution_count": 3,
   "metadata": {},
   "outputs": [
    {
     "data": {
      "text/plain": [
       "0"
      ]
     },
     "execution_count": 3,
     "metadata": {},
     "output_type": "execute_result"
    }
   ],
   "source": [
    "(-3)%3"
   ]
  },
  {
   "cell_type": "code",
   "execution_count": null,
   "metadata": {},
   "outputs": [],
   "source": []
  }
 ],
 "metadata": {
  "kernelspec": {
   "display_name": "Python 3",
   "language": "python",
   "name": "python3"
  },
  "language_info": {
   "codemirror_mode": {
    "name": "ipython",
    "version": 3
   },
   "file_extension": ".py",
   "mimetype": "text/x-python",
   "name": "python",
   "nbconvert_exporter": "python",
   "pygments_lexer": "ipython3",
   "version": "3.5.2"
  }
 },
 "nbformat": 4,
 "nbformat_minor": 2
}
